{
 "cells": [
  {
   "cell_type": "code",
   "execution_count": 1,
   "id": "37c2af1b",
   "metadata": {},
   "outputs": [],
   "source": [
    "import pyspark\n",
    "\n",
    "import findspark\n",
    "findspark.init()\n",
    "\n",
    "from pyspark.sql import *\n",
    "\n",
    "from pyspark import SparkContext\n",
    "sc = SparkContext.getOrCreate();              # It creates a new SparkContext to run our applications in it.\n",
    "sc\n",
    "\n",
    "from pyspark.sql import SparkSession\n",
    "\n",
    "# Creating a SparkSession\n",
    "spark = SparkSession.builder.appName(\"MyApppp\").getOrCreate()"
   ]
  },
  {
   "cell_type": "code",
   "execution_count": 2,
   "id": "902b59d9",
   "metadata": {},
   "outputs": [
    {
     "name": "stdout",
     "output_type": "stream",
     "text": [
      "+------+------+------+--------------------+----------+----------+----------+---------+-----------+----------+----------+--------+------+--------+--------+\n",
      "|MARKET|SERIES|SYMBOL|            SECURITY|PREV_CL_PR|OPEN_PRICE|HIGH_PRICE|LOW_PRICE|CLOSE_PRICE|NET_TRDVAL|NET_TRDQTY|CORP_IND|TRADES|HI_52_WK|LO_52_WK|\n",
      "+------+------+------+--------------------+----------+----------+----------+---------+-----------+----------+----------+--------+------+--------+--------+\n",
      "|     N|    N1|  IRFC|BOND 8.00% PA TAX...|      1086|      1085|      1085|  1084.54|       1085|3371959.44|      3108|        |     8|    1194|    1050|\n",
      "|     N|    N1|  JNPT|BOND 6.82% PA TAX...|      1001|    1007.1|      1015|   1007.1|       1015|     51370|        51|        |     2| 1529.99|    1000|\n",
      "+------+------+------+--------------------+----------+----------+----------+---------+-----------+----------+----------+--------+------+--------+--------+\n",
      "only showing top 2 rows\n",
      "\n"
     ]
    }
   ],
   "source": [
    "rdd = sc.textFile('sharemarket.csv')\n",
    "schema = [\"MARKET\",\"SERIES\",\"SYMBOL\",\"SECURITY\",\"PREV_CL_PR\",\"OPEN_PRICE\",\"HIGH_PRICE\", \\\n",
    "          \"LOW_PRICE\",\"CLOSE_PRICE\",\"NET_TRDVAL\",\"NET_TRDQTY\",\"CORP_IND\",\"TRADES\",\"HI_52_WK\",\"LO_52_WK\"]\n",
    "\n",
    "rdd = rdd.map(lambda x: x.split(\",\"))\n",
    "rdd.collect()\n",
    "\n",
    "\n",
    "\n",
    "df = spark.createDataFrame(rdd,schema =schema)\n",
    "df.show(2)\n"
   ]
  },
  {
   "cell_type": "markdown",
   "id": "e253558d",
   "metadata": {},
   "source": [
    "# 1.Query to display the number of series present in the data."
   ]
  },
  {
   "cell_type": "code",
   "execution_count": 3,
   "id": "c031378b",
   "metadata": {},
   "outputs": [
    {
     "name": "stderr",
     "output_type": "stream",
     "text": [
      "c:\\python38\\lib\\site-packages\\pyspark\\sql\\dataframe.py:229: FutureWarning: Deprecated in 2.0, use createOrReplaceTempView instead.\n",
      "  warnings.warn(\"Deprecated in 2.0, use createOrReplaceTempView instead.\", FutureWarning)\n"
     ]
    },
    {
     "name": "stdout",
     "output_type": "stream",
     "text": [
      "+----------------------+\n",
      "|count(DISTINCT series)|\n",
      "+----------------------+\n",
      "|                    53|\n",
      "+----------------------+\n",
      "\n"
     ]
    }
   ],
   "source": [
    "share = df.registerTempTable(\"Sales\")\n",
    "spark.sql(\"select count(distinct series) from sales\").show()"
   ]
  },
  {
   "cell_type": "markdown",
   "id": "a5a34e54",
   "metadata": {},
   "source": [
    "# 2.Display the series present in the data."
   ]
  },
  {
   "cell_type": "code",
   "execution_count": 4,
   "id": "62e1c070",
   "metadata": {},
   "outputs": [
    {
     "name": "stdout",
     "output_type": "stream",
     "text": [
      "+------+\n",
      "|series|\n",
      "+------+\n",
      "|    NA|\n",
      "|    N3|\n",
      "|    NC|\n",
      "|    N7|\n",
      "|    N8|\n",
      "|    N2|\n",
      "|    N5|\n",
      "|    N4|\n",
      "|    N6|\n",
      "|    N1|\n",
      "|    N9|\n",
      "|    NB|\n",
      "|    YH|\n",
      "|    NS|\n",
      "|    NL|\n",
      "|    NK|\n",
      "|    Z4|\n",
      "|    NJ|\n",
      "|    NX|\n",
      "|    YS|\n",
      "+------+\n",
      "only showing top 20 rows\n",
      "\n"
     ]
    }
   ],
   "source": [
    "spark.sql(\"select distinct series from sales\").show()"
   ]
  },
  {
   "cell_type": "markdown",
   "id": "6f9a7bfc",
   "metadata": {},
   "source": [
    "# 3.Find the sumpof all the prices in the each series."
   ]
  },
  {
   "cell_type": "code",
   "execution_count": 5,
   "id": "5a304eb7",
   "metadata": {},
   "outputs": [
    {
     "name": "stdout",
     "output_type": "stream",
     "text": [
      "+------+------------------+\n",
      "|series|       Total_Price|\n",
      "+------+------------------+\n",
      "|    NA|          79628.91|\n",
      "|    N3| 8348.119999999999|\n",
      "|    NC|          57412.31|\n",
      "|    N7|13045.900000000001|\n",
      "|    N8|32583.230000000003|\n",
      "|    N2|          42048.85|\n",
      "|    N5|          35092.07|\n",
      "|    N4|47750.659999999996|\n",
      "|    N6|         105463.81|\n",
      "|    N1|          21630.72|\n",
      "|    N9|           32401.0|\n",
      "|    NB|          28642.17|\n",
      "|    YH|           4098.02|\n",
      "|    NS|            4129.0|\n",
      "|    NL|13611.080000000002|\n",
      "|    NK|7731.4800000000005|\n",
      "|    Z4|            4124.2|\n",
      "|    NJ|          17155.18|\n",
      "|    NX|           1275.88|\n",
      "|    YS|            4530.0|\n",
      "+------+------------------+\n",
      "only showing top 20 rows\n",
      "\n"
     ]
    }
   ],
   "source": [
    "spark.sql(\"select series, sum(open_price + high_price + low_price + close_price) Total_Price from Sales group by series\").show()"
   ]
  },
  {
   "cell_type": "markdown",
   "id": "02859ed8",
   "metadata": {},
   "source": [
    "# 4.Display security,series with highest net trade value"
   ]
  },
  {
   "cell_type": "code",
   "execution_count": 6,
   "id": "e253b1df",
   "metadata": {},
   "outputs": [
    {
     "name": "stdout",
     "output_type": "stream",
     "text": [
      "+--------------------+------+----------+\n",
      "|            security|series|net_trdval|\n",
      "+--------------------+------+----------+\n",
      "|SEC RED NCD 9.75 ...|    N4|  972888.7|\n",
      "+--------------------+------+----------+\n",
      "\n"
     ]
    }
   ],
   "source": [
    "# Maximum net_trdval in each Series.\n",
    "\n",
    "# spark.sql(\"select security, series, max(net_trdval) from sales group by security,series order by 1\").show()\n",
    "\n",
    "# For maximum net_trd value.\n",
    "\n",
    "spark.sql(\"select security, series, net_trdval from sales where net_trdval = (select max(net_trdval) from sales)\").show()"
   ]
  },
  {
   "cell_type": "markdown",
   "id": "5dccd7df",
   "metadata": {},
   "source": [
    "# 5.Display the series whose sum of all prices greater than the net trade value."
   ]
  },
  {
   "cell_type": "code",
   "execution_count": 7,
   "id": "6de4bcc9",
   "metadata": {},
   "outputs": [
    {
     "name": "stdout",
     "output_type": "stream",
     "text": [
      "+------+----------+----------+\n",
      "|series|TotalPrice|net_trdval|\n",
      "+------+----------+----------+\n",
      "|    N2|    4888.0|      3666|\n",
      "|    N4|   4088.04|   2044.02|\n",
      "|    N5|    3824.8|    1912.4|\n",
      "|    N6|    5364.0|      1341|\n",
      "|    NB|    3686.0|      1843|\n",
      "+------+----------+----------+\n",
      "\n"
     ]
    }
   ],
   "source": [
    "spark.sql(\"select series,(open_price + high_price + low_price + close_price) TotalPrice, net_trdval from sales \\\n",
    "           where (open_price + high_price + low_price + close_price)>net_trdval\").show()\n"
   ]
  },
  {
   "cell_type": "markdown",
   "id": "da00e4e9",
   "metadata": {},
   "source": [
    "# 6.Display the series with highest net trade quantity."
   ]
  },
  {
   "cell_type": "code",
   "execution_count": 8,
   "id": "9c68a6f4",
   "metadata": {},
   "outputs": [
    {
     "name": "stdout",
     "output_type": "stream",
     "text": [
      "+------+----------+\n",
      "|series|net_trdqty|\n",
      "+------+----------+\n",
      "|    N3|    143810|\n",
      "+------+----------+\n",
      "\n"
     ]
    }
   ],
   "source": [
    "spark.sql(\"select series, net_trdqty from sales where net_trdqty = (select max(float(net_trdqty)) from sales)\").show()"
   ]
  },
  {
   "cell_type": "markdown",
   "id": "93578960",
   "metadata": {},
   "source": [
    "# 7. Display the highest and lowest open price."
   ]
  },
  {
   "cell_type": "code",
   "execution_count": 11,
   "id": "6bcf88f4",
   "metadata": {},
   "outputs": [
    {
     "name": "stdout",
     "output_type": "stream",
     "text": [
      "+-------+------+\n",
      "|Highest|Lowest|\n",
      "+-------+------+\n",
      "|11450.0| 13.75|\n",
      "+-------+------+\n",
      "\n"
     ]
    }
   ],
   "source": [
    "spark.sql(\"select max(float(open_price)) Highest ,min(float(open_price)) Lowest from sales\").show()"
   ]
  },
  {
   "cell_type": "markdown",
   "id": "0ec789fa",
   "metadata": {},
   "source": [
    "# 8.Query to display the series which have trades more than 80."
   ]
  },
  {
   "cell_type": "code",
   "execution_count": 13,
   "id": "63b04cdf",
   "metadata": {},
   "outputs": [
    {
     "name": "stdout",
     "output_type": "stream",
     "text": [
      "+------+\n",
      "|series|\n",
      "+------+\n",
      "|    N2|\n",
      "|    N3|\n",
      "|    N7|\n",
      "+------+\n",
      "\n"
     ]
    }
   ],
   "source": [
    "spark.sql(\"select series from sales where float(trades)>80 \").show()"
   ]
  },
  {
   "cell_type": "markdown",
   "id": "eaa8ed57",
   "metadata": {},
   "source": [
    "# 9.Display the difference between the net trade value net trade quantity for each series."
   ]
  },
  {
   "cell_type": "code",
   "execution_count": 15,
   "id": "352a154f",
   "metadata": {},
   "outputs": [
    {
     "name": "stdout",
     "output_type": "stream",
     "text": [
      "+------+------------------------------+\n",
      "|series|sum((net_trdval - net_trdqty))|\n",
      "+------+------------------------------+\n",
      "|    NA|                    3331953.97|\n",
      "|    N3|                    5894945.91|\n",
      "|    NC|                    2505038.79|\n",
      "|    N7|                    2218463.04|\n",
      "|    N8|                    3982020.85|\n",
      "|    N2|                    3674571.25|\n",
      "|    N5|                    5581855.67|\n",
      "|    N4|            3474029.2199999997|\n",
      "|    N6|                 1.678578209E7|\n",
      "|    N1|                    7499601.93|\n",
      "|    N9|                      455370.9|\n",
      "|    NB|                    2430891.59|\n",
      "|    YH|                       61270.1|\n",
      "|    NS|                      354013.9|\n",
      "|    NL|                    1581525.31|\n",
      "|    NK|                    1010121.69|\n",
      "|    Z4|                       36956.6|\n",
      "|    NJ|                    7421503.24|\n",
      "|    NX|                      12728.72|\n",
      "|    YS|                       79055.0|\n",
      "+------+------------------------------+\n",
      "only showing top 20 rows\n",
      "\n"
     ]
    }
   ],
   "source": [
    "spark.sql(\"select series, sum(net_trdval - net_trdqty) from sales group by series\").show()"
   ]
  },
  {
   "cell_type": "code",
   "execution_count": null,
   "id": "417aacaa",
   "metadata": {},
   "outputs": [],
   "source": []
  }
 ],
 "metadata": {
  "kernelspec": {
   "display_name": "Python 3 (ipykernel)",
   "language": "python",
   "name": "python3"
  },
  "language_info": {
   "codemirror_mode": {
    "name": "ipython",
    "version": 3
   },
   "file_extension": ".py",
   "mimetype": "text/x-python",
   "name": "python",
   "nbconvert_exporter": "python",
   "pygments_lexer": "ipython3",
   "version": "3.8.10"
  }
 },
 "nbformat": 4,
 "nbformat_minor": 5
}
